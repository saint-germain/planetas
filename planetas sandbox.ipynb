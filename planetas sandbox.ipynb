{
 "cells": [
  {
   "cell_type": "code",
   "execution_count": 2,
   "metadata": {
    "collapsed": false
   },
   "outputs": [],
   "source": [
    "import pandas as pd\n",
    "import numpy as np\n",
    "import matplotlib.pyplot as plt\n",
    "import os\n",
    "%matplotlib inline"
   ]
  },
  {
   "cell_type": "code",
   "execution_count": 95,
   "metadata": {
    "collapsed": false
   },
   "outputs": [],
   "source": [
    "number=100\n",
    "FF=np.zeros(number)\n",
    "mmin=np.log10(10)\n",
    "mmax=np.log10(100000)\n",
    "m=mmin\n",
    "for i in range(number):\n",
    "    delta=(mmax-mmin)/(number-1)\n",
    "    FF[i]=10**m\n",
    "    m=m+delta\n",
    "    \n",
    "    "
   ]
  },
  {
   "cell_type": "code",
   "execution_count": null,
   "metadata": {
    "collapsed": true
   },
   "outputs": [],
   "source": [
    "gfortran -g -fbacktrace -ffpe-trap=zero,overflow,underflow sistemasII.f "
   ]
  },
  {
   "cell_type": "code",
   "execution_count": 85,
   "metadata": {
    "collapsed": false,
    "scrolled": true
   },
   "outputs": [
    {
     "data": {
      "text/plain": [
       "<matplotlib.collections.PathCollection at 0x114eae310>"
      ]
     },
     "execution_count": 85,
     "metadata": {},
     "output_type": "execute_result"
    },
    {
     "data": {
      "image/png": "[encoded data removed]",
      "text/plain": [
       "<matplotlib.figure.Figure at 0x10949bb10>"
      ]
     },
     "metadata": {},
     "output_type": "display_data"
    }
   ],
   "source": [
    "plt.scatter(np.arange(100),FF)"
   ]
  },
  {
   "cell_type": "code",
   "execution_count": 74,
   "metadata": {
    "collapsed": false
   },
   "outputs": [
    {
     "data": {
      "text/plain": [
       "<matplotlib.collections.PathCollection at 0x108f5e250>"
      ]
     },
     "execution_count": 74,
     "metadata": {},
     "output_type": "execute_result"
    },
    {
     "data": {
      "image/png": "[encoded data removed]",
      "text/plain": [
       "<matplotlib.figure.Figure at 0x109091a10>"
      ]
     },
     "metadata": {},
     "output_type": "display_data"
    }
   ],
   "source": [
    "plt.scatter(np.arange(100),np.logspace(1.0, 6.0, num=100.))"
   ]
  },
  {
   "cell_type": "code",
   "execution_count": 63,
   "metadata": {
    "collapsed": false
   },
   "outputs": [
    {
     "data": {
      "text/plain": [
       "array([  10.        ,   10.23531022,   10.47615753,   10.72267222,\n",
       "         10.97498765,   11.23324033,   11.49756995,   11.76811952,\n",
       "         12.0450354 ,   12.32846739,   12.61856883,   12.91549665,\n",
       "         13.21941148,   13.53047775,   13.84886371,   14.17474163,\n",
       "         14.50828778,   14.84968262,   15.19911083,   15.55676144,\n",
       "         15.92282793,   16.29750835,   16.68100537,   17.07352647,\n",
       "         17.475284  ,   17.88649529,   18.3073828 ,   18.73817423,\n",
       "         19.17910262,   19.6304065 ,   20.09233003,   20.56512308,\n",
       "         21.04904145,   21.5443469 ,   22.0513074 ,   22.5701972 ,\n",
       "         23.101297  ,   23.64489413,   24.20128265,   24.77076356,\n",
       "         25.35364494,   25.95024211,   26.56087783,   27.18588243,\n",
       "         27.82559402,   28.48035868,   29.15053063,   29.8364724 ,\n",
       "         30.53855509,   31.2571585 ,   31.99267138,   32.74549163,\n",
       "         33.51602651,   34.30469286,   35.11191734,   35.93813664,\n",
       "         36.78379772,   37.64935807,   38.53528594,   39.44206059,\n",
       "         40.37017259,   41.320124  ,   42.29242874,   43.28761281,\n",
       "         44.30621458,   45.34878508,   46.41588834,   47.50810162,\n",
       "         48.6260158 ,   49.77023564,   50.94138015,   52.14008288,\n",
       "         53.36699231,   54.62277218,   55.90810183,   57.22367659,\n",
       "         58.57020818,   59.94842503,   61.35907273,   62.80291442,\n",
       "         64.28073117,   65.79332247,   67.34150658,   68.92612104,\n",
       "         70.54802311,   72.20809018,   73.90722034,   75.64633276,\n",
       "         77.42636827,   79.24828984,   81.11308308,   83.02175681,\n",
       "         84.97534359,   86.97490026,   89.02150854,   91.11627561,\n",
       "         93.26033469,   95.45484567,   97.70099573,  100.        ])"
      ]
     },
     "execution_count": 63,
     "metadata": {},
     "output_type": "execute_result"
    }
   ],
   "source": [
    "np.logspace(1.0, 2.0, num=100.)"
   ]
  },
  {
   "cell_type": "code",
   "execution_count": 58,
   "metadata": {
    "collapsed": false
   },
   "outputs": [],
   "source": [
    "DD=np.logspace(1.0, 5.0, num=100000)"
   ]
  },
  {
   "cell_type": "code",
   "execution_count": 3,
   "metadata": {
    "collapsed": false
   },
   "outputs": [
    {
     "data": {
      "text/html": [
       "<div>\n",
       "<table border=\"1\" class=\"dataframe\">\n",
       "  <thead>\n",
       "    <tr style=\"text-align: right;\">\n",
       "      <th></th>\n",
       "      <th>n</th>\n",
       "      <th>amin</th>\n",
       "      <th>amax</th>\n",
       "      <th>a</th>\n",
       "      <th>da</th>\n",
       "      <th>rh</th>\n",
       "      <th>rp</th>\n",
       "      <th>mp</th>\n",
       "      <th>sp</th>\n",
       "    </tr>\n",
       "  </thead>\n",
       "  <tbody>\n",
       "    <tr>\n",
       "      <th>0</th>\n",
       "      <td>1</td>\n",
       "      <td>0.04437</td>\n",
       "      <td>174.69699</td>\n",
       "      <td>0.044370</td>\n",
       "      <td>0.000018</td>\n",
       "      <td>0.000001</td>\n",
       "      <td>2309420.952437</td>\n",
       "      <td>1.547819e+20</td>\n",
       "      <td>215.719224</td>\n",
       "    </tr>\n",
       "    <tr>\n",
       "      <th>1</th>\n",
       "      <td>2</td>\n",
       "      <td>0.04437</td>\n",
       "      <td>174.69699</td>\n",
       "      <td>0.044388</td>\n",
       "      <td>0.000018</td>\n",
       "      <td>0.000001</td>\n",
       "      <td>2309606.336440</td>\n",
       "      <td>1.548192e+20</td>\n",
       "      <td>215.632530</td>\n",
       "    </tr>\n",
       "    <tr>\n",
       "      <th>2</th>\n",
       "      <td>3</td>\n",
       "      <td>0.04437</td>\n",
       "      <td>174.69699</td>\n",
       "      <td>0.044406</td>\n",
       "      <td>0.000018</td>\n",
       "      <td>0.000001</td>\n",
       "      <td>2309791.750149</td>\n",
       "      <td>1.548565e+20</td>\n",
       "      <td>215.545865</td>\n",
       "    </tr>\n",
       "    <tr>\n",
       "      <th>3</th>\n",
       "      <td>4</td>\n",
       "      <td>0.04437</td>\n",
       "      <td>174.69699</td>\n",
       "      <td>0.044423</td>\n",
       "      <td>0.000018</td>\n",
       "      <td>0.000001</td>\n",
       "      <td>2309977.193569</td>\n",
       "      <td>1.548938e+20</td>\n",
       "      <td>215.459227</td>\n",
       "    </tr>\n",
       "    <tr>\n",
       "      <th>4</th>\n",
       "      <td>5</td>\n",
       "      <td>0.04437</td>\n",
       "      <td>174.69699</td>\n",
       "      <td>0.044441</td>\n",
       "      <td>0.000018</td>\n",
       "      <td>0.000001</td>\n",
       "      <td>2310162.666708</td>\n",
       "      <td>1.549311e+20</td>\n",
       "      <td>215.372618</td>\n",
       "    </tr>\n",
       "  </tbody>\n",
       "</table>\n",
       "</div>"
      ],
      "text/plain": [
       "    n     amin       amax         a        da        rh              rp  \\\n",
       "0   1  0.04437  174.69699  0.044370  0.000018  0.000001  2309420.952437   \n",
       "1   2  0.04437  174.69699  0.044388  0.000018  0.000001  2309606.336440   \n",
       "2   3  0.04437  174.69699  0.044406  0.000018  0.000001  2309791.750149   \n",
       "3   4  0.04437  174.69699  0.044423  0.000018  0.000001  2309977.193569   \n",
       "4   5  0.04437  174.69699  0.044441  0.000018  0.000001  2310162.666708   \n",
       "\n",
       "             mp          sp  \n",
       "0  1.547819e+20  215.719224  \n",
       "1  1.548192e+20  215.632530  \n",
       "2  1.548565e+20  215.545865  \n",
       "3  1.548938e+20  215.459227  \n",
       "4  1.549311e+20  215.372618  "
      ]
     },
     "execution_count": 3,
     "metadata": {},
     "output_type": "execute_result"
    }
   ],
   "source": [
    "df.head()"
   ]
  },
  {
   "cell_type": "code",
   "execution_count": 5,
   "metadata": {
    "collapsed": false
   },
   "outputs": [],
   "source": [
    "A=np.loadtxt('sistemas-output.sal')"
   ]
  },
  {
   "cell_type": "code",
   "execution_count": null,
   "metadata": {
    "collapsed": true
   },
   "outputs": [],
   "source": [
    "#a(i),emegas(i),emepla(i)/5.7d27,rplanet(i)"
   ]
  },
  {
   "cell_type": "code",
   "execution_count": 53,
   "metadata": {
    "collapsed": false,
    "scrolled": true
   },
   "outputs": [
    {
     "data": {
      "text/plain": [
       "<matplotlib.collections.PathCollection at 0x10bd48650>"
      ]
     },
     "execution_count": 53,
     "metadata": {},
     "output_type": "execute_result"
    },
    {
     "data": {
      "image/png": "[encoded data removed]",
      "text/plain": [
       "<matplotlib.figure.Figure at 0x10b8cb050>"
      ]
     },
     "metadata": {},
     "output_type": "display_data"
    }
   ],
   "source": [
    "plt.scatter(A[:,0],A[:,3],s=100*(A[:,2]+20*A[:,1]))\n",
    "plt.scatter(A[:,0],A[:,3],s=100*A[:,2],c='r')"
   ]
  },
  {
   "cell_type": "code",
   "execution_count": 4,
   "metadata": {
    "collapsed": false
   },
   "outputs": [],
   "source": [
    "%%bash\n",
    "awk '{print $1}' resultados/perturbacion01.txt | uniq -c > indices.txt"
   ]
  },
  {
   "cell_type": "code",
   "execution_count": 6,
   "metadata": {
    "collapsed": true
   },
   "outputs": [],
   "source": [
    "np.loadtxt?"
   ]
  },
  {
   "cell_type": "code",
   "execution_count": 8,
   "metadata": {
    "collapsed": false
   },
   "outputs": [],
   "source": [
    "ind=np.loadtxt('indices.txt',skiprows=1)"
   ]
  },
  {
   "cell_type": "code",
   "execution_count": 11,
   "metadata": {
    "collapsed": false
   },
   "outputs": [],
   "source": [
    "rawdata=np.loadtxt('resultados/perturbacion01.txt',skiprows=1)"
   ]
  },
  {
   "cell_type": "code",
   "execution_count": 156,
   "metadata": {
    "collapsed": false
   },
   "outputs": [],
   "source": [
    "#it,t,a(i),emegas(i),emepla(i)/5.7d27,rplanet(i),amax,amin,emestar,rc,qest,sigmag_0"
   ]
  },
  {
   "cell_type": "code",
   "execution_count": 12,
   "metadata": {
    "collapsed": false
   },
   "outputs": [
    {
     "data": {
      "text/plain": [
       "291"
      ]
     },
     "execution_count": 12,
     "metadata": {},
     "output_type": "execute_result"
    }
   ],
   "source": [
    "len(ind)"
   ]
  },
  {
   "cell_type": "code",
   "execution_count": 15,
   "metadata": {
    "collapsed": false,
    "scrolled": false
   },
   "outputs": [
    {
     "data": {
      "text/plain": [
       "0"
      ]
     },
     "execution_count": 15,
     "metadata": {},
     "output_type": "execute_result"
    }
   ],
   "source": [
    "ncols=6\n",
    "myrange=len(ind)\n",
    "figure_list = ''\n",
    "#myrange=100\n",
    "ii=0\n",
    "trange=ind[:myrange,0].sum()\n",
    "radmax=rawdata[:trange,5].max()\n",
    "eradcm=6.37e8\n",
    "for j in np.arange(myrange):\n",
    "    plt.xlim(0,rawdata[:trange,2].max()+0.2)\n",
    "    plt.ylim(0,rawdata[:trange,4].max()+0.2)\n",
    "    plt.ylim(0,3)\n",
    "    data=np.zeros((ind[j,0],ncols))\n",
    "    for i in range(int(ind[j,0])):\n",
    "        for k in range(ncols):\n",
    "            data[i,k]=rawdata[ii,k]\n",
    "#            print i,ii\n",
    "        ii=ii+1\n",
    "#    plt.scatter(data[:,2],data[:,5],s=1e3*data[:,4],c=1e3*data[:,4],cmap='cubehelix')\n",
    "    plt.scatter(data[:,2],data[:,4],s=3e-7*data[:,5],c=data[:,5]/eradcm,cmap='cubehelix',vmin=0,vmax=radmax/eradcm)\n",
    "    \n",
    "    plt.colorbar(label='Planet radius (R_Earth)');\n",
    "    plt.xlabel('Semi-major axis (AU)')\n",
    "    plt.ylabel('Planet mass (M_Earth)')\n",
    "    plt.title('Time=%e' % data[i,1])\n",
    "\n",
    "\n",
    "#    print data[:,5]\n",
    "#    print data[:,2]\n",
    "\n",
    "\n",
    "#    plt.show()\n",
    "#    print 'plot%06d' % j\n",
    "    figure_name='plot%06d.png' % j\n",
    "    plt.savefig(figure_name)\n",
    "    figure_list = figure_list + ' {} '.format(figure_name)\n",
    "\n",
    "\n",
    "    plt.close()\n",
    "    \n",
    "command = 'convert -delay 10 -loop 0 {} animation.gif'.format(figure_list)\n",
    "os.system(command)\n",
    "command = 'rm *.png'\n",
    "os.system(command)"
   ]
  },
  {
   "cell_type": "code",
   "execution_count": null,
   "metadata": {
    "collapsed": true
   },
   "outputs": [],
   "source": [
    "%%bash\n",
    "awk '{print $1}' sistemas-output.txt | uniq -c > indices.txt"
   ]
  },
  {
   "cell_type": "code",
   "execution_count": 18,
   "metadata": {
    "collapsed": false
   },
   "outputs": [
    {
     "data": {
      "text/plain": [
       "0"
      ]
     },
     "execution_count": 18,
     "metadata": {},
     "output_type": "execute_result"
    }
   ],
   "source": [
    "command = 'awk \\'{print $1}\\' sistemas-output.txt | uniq -c > indices.txt'\n",
    "os.system(command)"
   ]
  },
  {
   "cell_type": "code",
   "execution_count": 16,
   "metadata": {
    "collapsed": false
   },
   "outputs": [
    {
     "data": {
      "text/plain": [
       "0"
      ]
     },
     "execution_count": 16,
     "metadata": {},
     "output_type": "execute_result"
    }
   ],
   "source": [
    "import numpy as np\n",
    "import matplotlib.pyplot as plt\n",
    "import os\n",
    "import sys\n",
    "filename=str(sys.argv[0])\n",
    "command = 'awk \\'{print $1}\\' {} | uniq -c > indices.txt'.format(figure_name)\n",
    "os.system(command)\n",
    "ind=np.loadtxt('indices.txt',skiprows=1)\n",
    "rawdata=np.loadtxt('resultados/perturbacion01.txt',skiprows=1)\n",
    "ncols=6\n",
    "myrange=len(ind)\n",
    "figure_list = ''\n",
    "#myrange=100\n",
    "ii=0\n",
    "trange=ind[:myrange,0].sum()\n",
    "radmax=rawdata[:trange,5].max()\n",
    "eradcm=6.37e8\n",
    "for j in np.arange(myrange):\n",
    "    plt.xlim(0,rawdata[:trange,2].max()+0.2)\n",
    "    plt.ylim(0,rawdata[:trange,4].max()+0.2)\n",
    "    plt.ylim(0,3)\n",
    "    data=np.zeros((ind[j,0],ncols))\n",
    "    for i in range(int(ind[j,0])):\n",
    "        for k in range(ncols):\n",
    "            data[i,k]=rawdata[ii,k]\n",
    "#            print i,ii\n",
    "        ii=ii+1\n",
    "#    plt.scatter(data[:,2],data[:,5],s=1e3*data[:,4],c=1e3*data[:,4],cmap='cubehelix')\n",
    "    plt.scatter(data[:,2],data[:,4],s=3e-7*data[:,5],c=data[:,5]/eradcm,cmap='cubehelix',vmin=0,vmax=radmax/eradcm)\n",
    "    \n",
    "    plt.colorbar(label='Planet radius (R_Earth)');\n",
    "    plt.xlabel('Semi-major axis (AU)')\n",
    "    plt.ylabel('Planet mass (M_Earth)')\n",
    "    plt.title('Time=%e' % data[i,1])\n",
    "\n",
    "\n",
    "#    print data[:,5]\n",
    "#    print data[:,2]\n",
    "\n",
    "\n",
    "#    plt.show()\n",
    "#    print 'plot%06d' % j\n",
    "    figure_name='plot%06d.png' % j\n",
    "    plt.savefig(figure_name)\n",
    "    figure_list = figure_list + ' {} '.format(figure_name)\n",
    "\n",
    "\n",
    "    plt.close()\n",
    "    \n",
    "command = 'convert -delay 10 -loop 0 {} animation.gif'.format(figure_list)\n",
    "os.system(command)\n",
    "command = 'rm *.png'\n",
    "os.system(command)"
   ]
  },
  {
   "cell_type": "code",
   "execution_count": null,
   "metadata": {
    "collapsed": true
   },
   "outputs": [],
   "source": []
  },
  {
   "cell_type": "code",
   "execution_count": null,
   "metadata": {
    "collapsed": true
   },
   "outputs": [],
   "source": []
  },
  {
   "cell_type": "code",
   "execution_count": null,
   "metadata": {
    "collapsed": true
   },
   "outputs": [],
   "source": []
  },
  {
   "cell_type": "code",
   "execution_count": null,
   "metadata": {
    "collapsed": true
   },
   "outputs": [],
   "source": []
  },
  {
   "cell_type": "code",
   "execution_count": null,
   "metadata": {
    "collapsed": true
   },
   "outputs": [],
   "source": []
  },
  {
   "cell_type": "code",
   "execution_count": 66,
   "metadata": {
    "collapsed": false
   },
   "outputs": [
    {
     "data": {
      "text/plain": [
       "' plot000000.png  plot000001.png  plot000002.png  plot000003.png  plot000004.png  plot000005.png  plot000006.png  plot000007.png  plot000008.png  plot000009.png  plot000010.png '"
      ]
     },
     "execution_count": 66,
     "metadata": {},
     "output_type": "execute_result"
    }
   ],
   "source": [
    "figure_list"
   ]
  },
  {
   "cell_type": "code",
   "execution_count": 34,
   "metadata": {
    "collapsed": false
   },
   "outputs": [
    {
     "data": {
      "text/plain": [
       "186471"
      ]
     },
     "execution_count": 34,
     "metadata": {},
     "output_type": "execute_result"
    }
   ],
   "source": [
    "rawdata[:,4].size"
   ]
  },
  {
   "cell_type": "code",
   "execution_count": 159,
   "metadata": {
    "collapsed": false
   },
   "outputs": [
    {
     "data": {
      "text/plain": [
       "24"
      ]
     },
     "execution_count": 159,
     "metadata": {},
     "output_type": "execute_result"
    }
   ],
   "source": [
    "(np.mod(np.log(np.arange(10000000)+1)/np.log(2),1)==0.).sum()"
   ]
  },
  {
   "cell_type": "code",
   "execution_count": 44,
   "metadata": {
    "collapsed": false
   },
   "outputs": [
    {
     "data": {
      "text/plain": [
       "array([ 0,  1,  1, ..., 23, 23, 23])"
      ]
     },
     "execution_count": 44,
     "metadata": {},
     "output_type": "execute_result"
    }
   ],
   "source": [
    "(np.log(np.arange(10000000)+1)/np.log(2)).astype(int)"
   ]
  },
  {
   "cell_type": "code",
   "execution_count": 133,
   "metadata": {
    "collapsed": true
   },
   "outputs": [],
   "source": [
    "def f(x,b,tot):\n",
    "    return (np.mod(np.log((np.arange(tot)+1)/x)/np.log(b),1)==0).sum()"
   ]
  },
  {
   "cell_type": "code",
   "execution_count": 151,
   "metadata": {
    "collapsed": false,
    "scrolled": true
   },
   "outputs": [
    {
     "name": "stdout",
     "output_type": "stream",
     "text": [
      "250\n"
     ]
    },
    {
     "data": {
      "image/png": "[encoded data removed]",
      "text/plain": [
       "<matplotlib.figure.Figure at 0x10a933bd0>"
      ]
     },
     "metadata": {},
     "output_type": "display_data"
    }
   ],
   "source": [
    "base=3\n",
    "tot=1000\n",
    "x=np.linspace(1,tot,tot)\n",
    "y=np.zeros(tot)\n",
    "for i in range(tot):\n",
    "    y[i]=f(i,base,tot)\n",
    "plt.plot(x,y)\n",
    "print y.argmax()"
   ]
  },
  {
   "cell_type": "code",
   "execution_count": 150,
   "metadata": {
    "collapsed": false
   },
   "outputs": [
    {
     "data": {
      "text/plain": [
       "3333"
      ]
     },
     "execution_count": 150,
     "metadata": {},
     "output_type": "execute_result"
    }
   ],
   "source": [
    "int(tot/3.)"
   ]
  },
  {
   "cell_type": "code",
   "execution_count": 117,
   "metadata": {
    "collapsed": false
   },
   "outputs": [
    {
     "data": {
      "text/plain": [
       "array([   1.,    2.,    3.,    4.,    5.,    6.,    7.,    8.,    9.,\n",
       "         10.,   11.,   12.,   13.,   14.,   15.,   16.,   17.,   18.,\n",
       "         19.,   20.,   21.,   22.,   23.,   24.,   25.,   26.,   27.,\n",
       "         28.,   29.,   30.,   31.,   32.,   33.,   34.,   35.,   36.,\n",
       "         37.,   38.,   39.,   40.,   41.,   42.,   43.,   44.,   45.,\n",
       "         46.,   47.,   48.,   49.,   50.,   51.,   52.,   53.,   54.,\n",
       "         55.,   56.,   57.,   58.,   59.,   60.,   61.,   62.,   63.,\n",
       "         64.,   65.,   66.,   67.,   68.,   69.,   70.,   71.,   72.,\n",
       "         73.,   74.,   75.,   76.,   77.,   78.,   79.,   80.,   81.,\n",
       "         82.,   83.,   84.,   85.,   86.,   87.,   88.,   89.,   90.,\n",
       "         91.,   92.,   93.,   94.,   95.,   96.,   97.,   98.,   99.,  100.])"
      ]
     },
     "execution_count": 117,
     "metadata": {},
     "output_type": "execute_result"
    }
   ],
   "source": [
    "x=np.linspace(1,tot,tot)\n",
    "x"
   ]
  },
  {
   "cell_type": "code",
   "execution_count": 108,
   "metadata": {
    "collapsed": false
   },
   "outputs": [
    {
     "data": {
      "text/plain": [
       "[<matplotlib.lines.Line2D at 0x11ac9fdd0>]"
      ]
     },
     "execution_count": 108,
     "metadata": {},
     "output_type": "execute_result"
    },
    {
     "data": {
      "image/png": "[encoded data removed]",
      "text/plain": [
       "<matplotlib.figure.Figure at 0x10a9d4e90>"
      ]
     },
     "metadata": {},
     "output_type": "display_data"
    }
   ],
   "source": []
  },
  {
   "cell_type": "code",
   "execution_count": 84,
   "metadata": {
    "collapsed": false
   },
   "outputs": [
    {
     "data": {
      "text/plain": [
       "array([   1.,    2.,    3.,    4.,    5.,    6.,    7.,    8.,    9.,\n",
       "         10.,   11.,   12.,   13.,   14.,   15.,   16.,   17.,   18.,\n",
       "         19.,   20.,   21.,   22.,   23.,   24.,   25.,   26.,   27.,\n",
       "         28.,   29.,   30.,   31.,   32.,   33.,   34.,   35.,   36.,\n",
       "         37.,   38.,   39.,   40.,   41.,   42.,   43.,   44.,   45.,\n",
       "         46.,   47.,   48.,   49.,   50.,   51.,   52.,   53.,   54.,\n",
       "         55.,   56.,   57.,   58.,   59.,   60.,   61.,   62.,   63.,\n",
       "         64.,   65.,   66.,   67.,   68.,   69.,   70.,   71.,   72.,\n",
       "         73.,   74.,   75.,   76.,   77.,   78.,   79.,   80.,   81.,\n",
       "         82.,   83.,   84.,   85.,   86.,   87.,   88.,   89.,   90.,\n",
       "         91.,   92.,   93.,   94.,   95.,   96.,   97.,   98.,   99.,  100.])"
      ]
     },
     "execution_count": 84,
     "metadata": {},
     "output_type": "execute_result"
    }
   ],
   "source": [
    "x"
   ]
  },
  {
   "cell_type": "code",
   "execution_count": 38,
   "metadata": {
    "collapsed": false
   },
   "outputs": [
    {
     "data": {
      "text/plain": [
       "23.253496664211539"
      ]
     },
     "execution_count": 38,
     "metadata": {},
     "output_type": "execute_result"
    }
   ],
   "source": [
    "np.log(10000000)/np.log(2)"
   ]
  },
  {
   "cell_type": "code",
   "execution_count": 39,
   "metadata": {
    "collapsed": false
   },
   "outputs": [
    {
     "data": {
      "text/plain": [
       "8388608"
      ]
     },
     "execution_count": 39,
     "metadata": {},
     "output_type": "execute_result"
    }
   ],
   "source": [
    "2**23"
   ]
  },
  {
   "cell_type": "code",
   "execution_count": null,
   "metadata": {
    "collapsed": true
   },
   "outputs": [],
   "source": [
    "import numpy as np\n",
    "import matplotlib.pyplot as plt\n",
    "import os\n",
    "import sys\n",
    "filename=sys.argv[1]\n",
    "command = 'awk \\'{{print $1}}\\' {} | uniq -c > indices.txt'.format(filename)\n",
    "os.system(command)\n",
    "ind=np.loadtxt('indices.txt',skiprows=1)\n",
    "rawdata=np.loadtxt(filename,skiprows=1)\n",
    "ncols=6\n",
    "myrange=len(ind)\n",
    "myrange=3\n",
    "figure_list = ''\n",
    "ii=0\n",
    "trange=ind[:myrange,0].sum()\n",
    "radmax=rawdata[:trange,5].max()\n",
    "eradcm=6.37e8\n",
    "for j in np.arange(myrange):\n",
    "    plt.xlim(0,rawdata[:trange,2].max()+0.2)\n",
    "    plt.ylim(0,rawdata[:trange,4].max()+0.2)\n",
    "    plt.ylim(0,3)\n",
    "    data=np.zeros((ind[j,0],ncols))\n",
    "    for i in range(int(ind[j,0])):\n",
    "        for k in range(ncols):\n",
    "            data[i,k]=rawdata[ii,k]\n",
    "        ii=ii+1\n",
    "    plt.scatter(data[:,2],data[:,4],s=3e-7*data[:,5],c=data[:,5]/eradcm,cmap='cubehelix',vmin=0,vmax=radmax/eradcm)   \n",
    "    plt.colorbar(label='Planet radius (R_Earth)');\n",
    "    plt.xlabel('Semi-major axis (AU)')\n",
    "    plt.ylabel('Planet mass (M_Earth)')\n",
    "    plt.title('Time=%e' % data[i,1])\n",
    "    figure_name='plot%06d.png' % j\n",
    "    plt.savefig(figure_name)\n",
    "    figure_list = figure_list + ' {} '.format(figure_name)\n",
    "    plt.close() \n",
    "for i in range(15):    \n",
    "    figure_list = figure_list+ ' {} '.format(figure_name)      \n",
    "command = 'convert -delay 10 -loop 0 {} animation.gif'.format(figure_list)\n",
    "os.system(command)\n",
    "command = 'rm *.png'\n",
    "os.system(command)"
   ]
  },
  {
   "cell_type": "code",
   "execution_count": 20,
   "metadata": {
    "collapsed": false
   },
   "outputs": [
    {
     "data": {
      "text/plain": [
       "array([ 0.03629759,  0.04167269])"
      ]
     },
     "execution_count": 20,
     "metadata": {},
     "output_type": "execute_result"
    }
   ],
   "source": [
    "# ind=0, time = 1, sma=2,gasmass/earthmass= 3, mass/earthmass= 4,  radius=5 \n",
    "data[:,4].sum()      #rocky mass\n",
    "data[:,4].sum()+data[:,3].sum()/5.e27      #rocky+gas mass\n",
    "data[:,2]*data[:,4]\n"
   ]
  },
  {
   "cell_type": "code",
   "execution_count": 77,
   "metadata": {
    "collapsed": false,
    "scrolled": true
   },
   "outputs": [],
   "source": [
    "import numpy as np\n",
    "import matplotlib.pyplot as plt\n",
    "import os\n",
    "filename=\"perturbacion01.txt\"\n",
    "command = 'awk \\'{{print $1}}\\' {} | uniq -c > indices.txt'.format(filename)\n",
    "os.system(command)\n",
    "ind=np.loadtxt('indices.txt',skiprows=1)\n",
    "rawdata=np.loadtxt(filename,skiprows=1)\n",
    "ncols=6\n",
    "myrange=len(ind)\n",
    "#myrange=200\n",
    "figure_list = ''\n",
    "ii=0\n",
    "trange=ind[:myrange,0].sum()\n",
    "radmax=rawdata[:trange,5].max()\n",
    "eradcm=6.37e8\n",
    "armass=[]\n",
    "agmass=[]\n",
    "acmass=[]\n",
    "anplan=[]\n",
    "atime=[]\n",
    "for j in np.arange(myrange):\n",
    "    data=np.zeros((ind[j,0],ncols))\n",
    "    for i in range(int(ind[j,0])):\n",
    "        for k in range(ncols):\n",
    "            data[i,k]=rawdata[ii,k]\n",
    "        ii=ii+1\n",
    "    rmass=data[:,4].sum()      #rocky mass\n",
    "    gmass=data[:,3].sum()    #gas mass\n",
    "    cmass=(data[:,2]*(data[:,4]+data[:,3])).sum()/(rmass+gmass)     # center of mass\n",
    "    nplan=len(data)*1.\n",
    "    armass.append(rmass)\n",
    "    agmass.append(gmass)\n",
    "    acmass.append(cmass)\n",
    "    anplan.append(nplan)\n",
    "    atime.append(data[0,1])\n",
    "armass=np.asarray(armass)\n",
    "agmass=np.asarray(agmass)\n",
    "acmass=np.asarray(acmass)\n",
    "anplan=np.asarray(anplan)\n",
    "atime=np.asarray(atime)"
   ]
  },
  {
   "cell_type": "code",
   "execution_count": 65,
   "metadata": {
    "collapsed": true
   },
   "outputs": [],
   "source": [
    "%matplotlib inline"
   ]
  },
  {
   "cell_type": "code",
   "execution_count": 66,
   "metadata": {
    "collapsed": false
   },
   "outputs": [
    {
     "data": {
      "text/plain": [
       "(291,)"
      ]
     },
     "execution_count": 66,
     "metadata": {},
     "output_type": "execute_result"
    }
   ],
   "source": [
    "anplan.shape\n"
   ]
  },
  {
   "cell_type": "code",
   "execution_count": 67,
   "metadata": {
    "collapsed": false,
    "scrolled": false
   },
   "outputs": [
    {
     "data": {
      "text/plain": [
       "[<matplotlib.lines.Line2D at 0x115809490>]"
      ]
     },
     "execution_count": 67,
     "metadata": {},
     "output_type": "execute_result"
    },
    {
     "data": {
      "image/png": "[encoded data removed]",
      "text/plain": [
       "<matplotlib.figure.Figure at 0x115651910>"
      ]
     },
     "metadata": {},
     "output_type": "display_data"
    }
   ],
   "source": [
    "plt.plot(atime,anplan) #this one side to side with the next two-in one"
   ]
  },
  {
   "cell_type": "code",
   "execution_count": 76,
   "metadata": {
    "collapsed": false
   },
   "outputs": [
    {
     "data": {
      "text/plain": [
       "[<matplotlib.lines.Line2D at 0x11607a850>]"
      ]
     },
     "execution_count": 76,
     "metadata": {},
     "output_type": "execute_result"
    },
    {
     "data": {
      "image/png": "[encoded data removed]",
      "text/plain": [
       "<matplotlib.figure.Figure at 0x115964b10>"
      ]
     },
     "metadata": {},
     "output_type": "display_data"
    }
   ],
   "source": [
    "plt.plot(atime,(armass+agmass)/anplan)"
   ]
  },
  {
   "cell_type": "code",
   "execution_count": 73,
   "metadata": {
    "collapsed": false
   },
   "outputs": [
    {
     "data": {
      "text/plain": [
       "[<matplotlib.lines.Line2D at 0x115d42810>]"
      ]
     },
     "execution_count": 73,
     "metadata": {},
     "output_type": "execute_result"
    },
    {
     "data": {
      "image/png": "[encoded data removed]",
      "text/plain": [
       "<matplotlib.figure.Figure at 0x115a4c5d0>"
      ]
     },
     "metadata": {},
     "output_type": "display_data"
    }
   ],
   "source": [
    "plt.plot(atime,armass+agmass)\n",
    "plt.plot(atime,armass,c='r')"
   ]
  },
  {
   "cell_type": "code",
   "execution_count": 78,
   "metadata": {
    "collapsed": false
   },
   "outputs": [
    {
     "data": {
      "text/plain": [
       "[<matplotlib.lines.Line2D at 0x1160a2190>]"
      ]
     },
     "execution_count": 78,
     "metadata": {},
     "output_type": "execute_result"
    },
    {
     "data": {
      "image/png": "[encoded data removed]",
      "text/plain": [
       "<matplotlib.figure.Figure at 0x115ea5250>"
      ]
     },
     "metadata": {},
     "output_type": "display_data"
    }
   ],
   "source": [
    "plt.plot(atime,acmass)"
   ]
  },
  {
   "cell_type": "code",
   "execution_count": 33,
   "metadata": {
    "collapsed": false
   },
   "outputs": [
    {
     "name": "stdout",
     "output_type": "stream",
     "text": [
      "12\n"
     ]
    }
   ],
   "source": [
    "# ind=0, time = 1, sma=2,gasmass= 3, mass/earthmass= 4,  radius=5 \n",
    "rmass=data[:,4].sum()      #rocky mass\n",
    "rgmass=data[:,4].sum()+data[:,3].sum()/5.e27      #rocky+gas mass\n",
    "cmass=(data[:,2]*(data[:,4]+data[:,3]/5.e27)).sum()/rgmass      # center of mass\n",
    "nplan=len(data)\n"
   ]
  },
  {
   "cell_type": "code",
   "execution_count": null,
   "metadata": {
    "collapsed": true
   },
   "outputs": [],
   "source": []
  },
  {
   "cell_type": "code",
   "execution_count": null,
   "metadata": {
    "collapsed": true
   },
   "outputs": [],
   "source": []
  },
  {
   "cell_type": "code",
   "execution_count": null,
   "metadata": {
    "collapsed": true
   },
   "outputs": [],
   "source": []
  },
  {
   "cell_type": "code",
   "execution_count": null,
   "metadata": {
    "collapsed": true
   },
   "outputs": [],
   "source": []
  },
  {
   "cell_type": "code",
   "execution_count": null,
   "metadata": {
    "collapsed": true
   },
   "outputs": [],
   "source": []
  }
 ],
 "metadata": {
  "kernelspec": {
   "display_name": "Python 2",
   "language": "python",
   "name": "python2"
  },
  "language_info": {
   "codemirror_mode": {
    "name": "ipython",
    "version": 2
   },
   "file_extension": ".py",
   "mimetype": "text/x-python",
   "name": "python",
   "nbconvert_exporter": "python",
   "pygments_lexer": "ipython2",
   "version": "2.7.10"
  }
 },
 "nbformat": 4,
 "nbformat_minor": 0
}
